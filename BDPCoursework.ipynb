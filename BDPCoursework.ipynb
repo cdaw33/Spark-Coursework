{
 "cells": [
  {
   "cell_type": "code",
   "execution_count": 1,
   "metadata": {},
   "outputs": [
    {
     "data": {
      "text/plain": [
       "<pyspark.context.SparkContext at 0x7f13c052ed10>"
      ]
     },
     "execution_count": 1,
     "metadata": {},
     "output_type": "execute_result"
    }
   ],
   "source": [
    "#Checks that SparkContect is avaliable to run Spark jobs\n",
    "sc"
   ]
  },
  {
   "cell_type": "code",
   "execution_count": 2,
   "metadata": {
    "collapsed": true
   },
   "outputs": [],
   "source": [
    "#INGESTION\n",
    "#Load the first .csv file into a spark data frame\n",
    "athleteDf = spark.read.format(\"csv\").option(\"header\", \"true\").load(\"/home/bdtech/athlete_events.csv\")"
   ]
  },
  {
   "cell_type": "code",
   "execution_count": 3,
   "metadata": {},
   "outputs": [
    {
     "name": "stdout",
     "output_type": "stream",
     "text": [
      "root\n",
      " |-- ID: string (nullable = true)\n",
      " |-- Name: string (nullable = true)\n",
      " |-- Sex: string (nullable = true)\n",
      " |-- Age: string (nullable = true)\n",
      " |-- Height: string (nullable = true)\n",
      " |-- Weight: string (nullable = true)\n",
      " |-- Team: string (nullable = true)\n",
      " |-- NOC: string (nullable = true)\n",
      " |-- Games: string (nullable = true)\n",
      " |-- Year: string (nullable = true)\n",
      " |-- Season: string (nullable = true)\n",
      " |-- City: string (nullable = true)\n",
      " |-- Sport: string (nullable = true)\n",
      " |-- Event: string (nullable = true)\n",
      " |-- Medal: string (nullable = true)\n",
      "\n"
     ]
    }
   ],
   "source": [
    "#This displays the database schema for the loaded in .csv\n",
    "athleteDf.printSchema()"
   ]
  },
  {
   "cell_type": "code",
   "execution_count": 4,
   "metadata": {
    "collapsed": true
   },
   "outputs": [],
   "source": [
    "#This loads in the second .csv file into a dataframe\n",
    "regionsDf = spark.read.format(\"csv\").option(\"header\", \"true\").load(\"/home/bdtech/noc_regions.csv\")"
   ]
  },
  {
   "cell_type": "code",
   "execution_count": 5,
   "metadata": {},
   "outputs": [
    {
     "name": "stdout",
     "output_type": "stream",
     "text": [
      "root\n",
      " |-- NOC: string (nullable = true)\n",
      " |-- region: string (nullable = true)\n",
      " |-- notes: string (nullable = true)\n",
      "\n"
     ]
    }
   ],
   "source": [
    "#This displays the schema for this dataframe\n",
    "regionsDf.printSchema()"
   ]
  },
  {
   "cell_type": "code",
   "execution_count": 6,
   "metadata": {},
   "outputs": [
    {
     "name": "stdout",
     "output_type": "stream",
     "text": [
      "root\n",
      " |-- ID: string (nullable = true)\n",
      " |-- NOC: string (nullable = true)\n",
      " |-- Year: string (nullable = true)\n",
      " |-- Season: string (nullable = true)\n",
      " |-- Sport: string (nullable = true)\n",
      " |-- Event: string (nullable = true)\n",
      "\n"
     ]
    }
   ],
   "source": [
    "#This drops the unnecessary columns from the dataframe and shows the new database schema\n",
    "athleteDf = athleteDf.drop('Name', 'Sex', 'Age', 'Height', 'Weight', 'Team','Games', 'City', 'Medal')\n",
    "athleteDf.printSchema()"
   ]
  },
  {
   "cell_type": "code",
   "execution_count": 7,
   "metadata": {},
   "outputs": [
    {
     "name": "stdout",
     "output_type": "stream",
     "text": [
      "root\n",
      " |-- NOC: string (nullable = true)\n",
      " |-- region: string (nullable = true)\n",
      "\n"
     ]
    }
   ],
   "source": [
    "#This drops the unnecessary columns from the dataframe and shows the new database schema\n",
    "regionsDf = regionsDf.drop('notes')\n",
    "regionsDf.printSchema()"
   ]
  },
  {
   "cell_type": "code",
   "execution_count": 8,
   "metadata": {
    "collapsed": true
   },
   "outputs": [],
   "source": [
    "#This creates a join in the two dataframes based on the NOC column\n",
    "fullInfoDf = athleteDf.join(regionsDf, \"NOC\")"
   ]
  },
  {
   "cell_type": "code",
   "execution_count": 9,
   "metadata": {},
   "outputs": [
    {
     "name": "stdout",
     "output_type": "stream",
     "text": [
      "root\n",
      " |-- NOC: string (nullable = true)\n",
      " |-- ID: string (nullable = true)\n",
      " |-- Year: string (nullable = true)\n",
      " |-- Season: string (nullable = true)\n",
      " |-- Sport: string (nullable = true)\n",
      " |-- Event: string (nullable = true)\n",
      " |-- region: string (nullable = true)\n",
      "\n"
     ]
    }
   ],
   "source": [
    "#This prints the schema of the newly joined dataframe\n",
    "fullInfoDf.printSchema()"
   ]
  },
  {
   "cell_type": "code",
   "execution_count": 10,
   "metadata": {},
   "outputs": [
    {
     "name": "stdout",
     "output_type": "stream",
     "text": [
      "+---+---+----+------+--------------------+--------------------+-----------+\n",
      "|NOC| ID|Year|Season|               Sport|               Event|     region|\n",
      "+---+---+----+------+--------------------+--------------------+-----------+\n",
      "|CHN|  1|1992|Summer|          Basketball|Basketball Men's ...|      China|\n",
      "|CHN|  2|2012|Summer|                Judo|Judo Men's Extra-...|      China|\n",
      "|DEN|  3|1920|Summer|            Football|Football Men's Fo...|    Denmark|\n",
      "|DEN|  4|1900|Summer|          Tug-Of-War|Tug-Of-War Men's ...|    Denmark|\n",
      "|NED|  5|1988|Winter|       Speed Skating|Speed Skating Wom...|Netherlands|\n",
      "|NED|  5|1988|Winter|       Speed Skating|Speed Skating Wom...|Netherlands|\n",
      "|NED|  5|1992|Winter|       Speed Skating|Speed Skating Wom...|Netherlands|\n",
      "|NED|  5|1992|Winter|       Speed Skating|Speed Skating Wom...|Netherlands|\n",
      "|NED|  5|1994|Winter|       Speed Skating|Speed Skating Wom...|Netherlands|\n",
      "|NED|  5|1994|Winter|       Speed Skating|Speed Skating Wom...|Netherlands|\n",
      "|USA|  6|1992|Winter|Cross Country Skiing|Cross Country Ski...|        USA|\n",
      "|USA|  6|1992|Winter|Cross Country Skiing|Cross Country Ski...|        USA|\n",
      "|USA|  6|1992|Winter|Cross Country Skiing|Cross Country Ski...|        USA|\n",
      "|USA|  6|1992|Winter|Cross Country Skiing|Cross Country Ski...|        USA|\n",
      "|USA|  6|1994|Winter|Cross Country Skiing|Cross Country Ski...|        USA|\n",
      "|USA|  6|1994|Winter|Cross Country Skiing|Cross Country Ski...|        USA|\n",
      "|USA|  6|1994|Winter|Cross Country Skiing|Cross Country Ski...|        USA|\n",
      "|USA|  6|1994|Winter|Cross Country Skiing|Cross Country Ski...|        USA|\n",
      "|USA|  7|1992|Winter|Cross Country Skiing|Cross Country Ski...|        USA|\n",
      "|USA|  7|1992|Winter|Cross Country Skiing|Cross Country Ski...|        USA|\n",
      "+---+---+----+------+--------------------+--------------------+-----------+\n",
      "only showing top 20 rows\n",
      "\n"
     ]
    }
   ],
   "source": [
    "#This shows the first twenty rows of the dataframe\n",
    "fullInfoDf.show()"
   ]
  },
  {
   "cell_type": "code",
   "execution_count": 11,
   "metadata": {
    "collapsed": true
   },
   "outputs": [],
   "source": [
    "#This imports the sql functions which will then allow for filtering of the data\n",
    "import pyspark.sql.functions as f"
   ]
  },
  {
   "cell_type": "code",
   "execution_count": 12,
   "metadata": {},
   "outputs": [
    {
     "name": "stdout",
     "output_type": "stream",
     "text": [
      "+---+---+----+------+--------------------+--------------------+---------+\n",
      "|NOC| ID|Year|Season|               Sport|               Event|   region|\n",
      "+---+---+----+------+--------------------+--------------------+---------+\n",
      "|CHN|  2|2012|Summer|                Judo|Judo Men's Extra-...|    China|\n",
      "|FRA| 34|2012|Summer|           Athletics|Athletics Men's 1...|   France|\n",
      "|MAR| 48|2012|Summer|              Boxing|Boxing Men's Ligh...|  Morocco|\n",
      "|RUS| 67|2012|Summer|           Athletics|Athletics Women's...|   Russia|\n",
      "|FRA| 73|2012|Summer|            Handball|Handball Men's Ha...|   France|\n",
      "|ARG| 74|2012|Summer|              Rowing|Rowing Women's Co...|Argentina|\n",
      "|ITA| 91|2012|Summer|           Athletics|Athletics Men's 1...|    Italy|\n",
      "|ALG|105|2012|Summer|              Boxing|Boxing Men's Welt...|  Algeria|\n",
      "|PAK|123|2012|Summer|              Hockey| Hockey Men's Hockey| Pakistan|\n",
      "|PAK|127|2012|Summer|              Hockey| Hockey Men's Hockey| Pakistan|\n",
      "|IRI|128|2012|Summer|              Rowing|Rowing Women's Si...|     Iran|\n",
      "|ITA|132|2012|Summer|          Water Polo|Water Polo Women'...|    Italy|\n",
      "|EGY|155|2012|Summer|           Wrestling|Wrestling Men's H...|    Egypt|\n",
      "|EGY|159|2012|Summer|Synchronized Swim...|Synchronized Swim...|    Egypt|\n",
      "|EGY|232|2012|Summer|       Weightlifting|Weightlifting Men...|    Egypt|\n",
      "|EGY|236|2012|Summer|       Weightlifting|Weightlifting Men...|    Egypt|\n",
      "|EGY|241|2012|Summer|           Wrestling|Wrestling Men's L...|    Egypt|\n",
      "|EGY|243|2012|Summer|           Athletics|Athletics Men's J...|    Egypt|\n",
      "|ALG|249|2012|Summer|          Volleyball|Volleyball Women'...|  Algeria|\n",
      "|IRI|250|2012|Summer|           Wrestling|Wrestling Men's W...|     Iran|\n",
      "+---+---+----+------+--------------------+--------------------+---------+\n",
      "only showing top 20 rows\n",
      "\n"
     ]
    }
   ],
   "source": [
    "#This creates a new dataframe with only the results from the 2012 Summer Games in it and then shows the first 20 rows\n",
    "games = fullInfoDf.filter((f.col('Year')=='2012') & (f.col('Season')=='Summer'))\n",
    "games.show()"
   ]
  },
  {
   "cell_type": "code",
   "execution_count": 13,
   "metadata": {},
   "outputs": [
    {
     "name": "stdout",
     "output_type": "stream",
     "text": [
      "+---+---+----+------+----------+--------------------+------------+\n",
      "|NOC| ID|Year|Season|     Sport|               Event|      region|\n",
      "+---+---+----+------+----------+--------------------+------------+\n",
      "|NOR| 21|2008|Summer|  Handball|Handball Women's ...|      Norway|\n",
      "|EST| 49|2008|Summer| Athletics|Athletics Women's...|     Estonia|\n",
      "|ESP| 63|2008|Summer|   Fencing|Fencing Men's epe...|       Spain|\n",
      "|RUS| 67|2008|Summer| Athletics|Athletics Women's...|      Russia|\n",
      "|ESP| 69|2008|Summer|Basketball|Basketball Women'...|       Spain|\n",
      "|BLR| 72|2008|Summer|  Canoeing|Canoeing Men's Ka...|     Belarus|\n",
      "|FRA| 73|2008|Summer|  Handball|Handball Men's Ha...|      France|\n",
      "|ITA| 92|2008|Summer|  Football|Football Men's Fo...|       Italy|\n",
      "|FRA| 93|2008|Summer|  Handball|Handball Men's Ha...|      France|\n",
      "|PAK|127|2008|Summer|    Hockey| Hockey Men's Hockey|    Pakistan|\n",
      "|AZE|129|2008|Summer| Athletics|Athletics Men's 1...|  Azerbaijan|\n",
      "|AZE|130|2008|Summer|  Swimming|Swimming Men's 50...|  Azerbaijan|\n",
      "|AUS|143|2008|Summer|    Hockey| Hockey Men's Hockey|   Australia|\n",
      "|RSA|144|2008|Summer|    Hockey| Hockey Men's Hockey|South Africa|\n",
      "|CAN|148|2008|Summer|   Sailing|Sailing Women's T...|      Canada|\n",
      "|USA|153|2008|Summer|  Softball|Softball Women's ...|         USA|\n",
      "|MAR|154|2008|Summer|   Archery|Archery Women's I...|     Morocco|\n",
      "|EGY|156|2008|Summer|Volleyball|Volleyball Men's ...|       Egypt|\n",
      "|EGY|157|2008|Summer|  Handball|Handball Men's Ha...|       Egypt|\n",
      "|EGY|158|2008|Summer| Taekwondo|Taekwondo Women's...|       Egypt|\n",
      "+---+---+----+------+----------+--------------------+------------+\n",
      "only showing top 20 rows\n",
      "\n"
     ]
    }
   ],
   "source": [
    "#This creates a new dataframe with only the results from the 2008 Summer Games in it and then shows the first 20 rows\n",
    "gamesOther = fullInfoDf.filter((f.col('Year')=='2008') & (f.col('Season')=='Summer'))\n",
    "gamesOther.show()"
   ]
  },
  {
   "cell_type": "code",
   "execution_count": 14,
   "metadata": {
    "collapsed": true
   },
   "outputs": [],
   "source": [
    "#FILE STORAGE\n",
    "\n",
    "#This creates a new MongoDB collection called athlete and then saves the full joined table in it\n",
    "fullInfoDf.write.format(\"com.mongodb.spark.sql.DefaultSource\")  \\\n",
    ".mode(\"append\") \\\n",
    ".option(\"database\",\"test\") \\\n",
    ".option(\"collection\", \"athlete\").save()"
   ]
  },
  {
   "cell_type": "code",
   "execution_count": 15,
   "metadata": {
    "collapsed": true
   },
   "outputs": [],
   "source": [
    "#This creates a new MongoDB collection called Games and then saves the 2012 table in it\n",
    "games.write.format(\"com.mongodb.spark.sql.DefaultSource\")  \\\n",
    ".mode(\"append\") \\\n",
    ".option(\"database\",\"test\") \\\n",
    ".option(\"collection\", \"Games\").save()"
   ]
  },
  {
   "cell_type": "code",
   "execution_count": 16,
   "metadata": {
    "collapsed": true
   },
   "outputs": [],
   "source": [
    "#This creates a new MongoDB collection called Games and then saves the 2008 table in it\n",
    "gamesOther.write.format(\"com.mongodb.spark.sql.DefaultSource\")  \\\n",
    ".mode(\"append\") \\\n",
    ".option(\"database\",\"test\") \\\n",
    ".option(\"collection\", \"GamesOther\").save()"
   ]
  },
  {
   "cell_type": "code",
   "execution_count": 17,
   "metadata": {
    "collapsed": true
   },
   "outputs": [],
   "source": [
    "#Visualisation\n",
    "\n",
    "#Imports the pymongo library\n",
    "import pymongo\n",
    "from pymongo import MongoClient\n",
    "#creates a new MongoDB Client to be used in accessing the stored MongoDB documents\n",
    "client = MongoClient()\n",
    "#Imports the Python Pandas library\n",
    "import pandas\n",
    "#Looks for the fully joined table in the MongoDB Database\n",
    "result = client.test.athlete.find()\n",
    "#stores the database as a pandas dataframe\n",
    "result_df=pandas.DataFrame(list(result))\n",
    "\n",
    "#Looks for the 2012 table in the MongoDB Database\n",
    "result2012 = client.test.Games.find()\n",
    "#stores the database as a pandas dataframe\n",
    "result2012_df = pandas.DataFrame(list(result2012))\n",
    "\n",
    "#Looks for the 2008 table in the MongoDB Database\n",
    "result2008 = client.test.GamesOther.find()\n",
    "#stores the database as a pandas dataframe\n",
    "result2008_df = pandas.DataFrame(list(result2008))"
   ]
  },
  {
   "cell_type": "code",
   "execution_count": 18,
   "metadata": {},
   "outputs": [
    {
     "data": {
      "text/plain": [
       "USA    18331\n",
       "FRA    12753\n",
       "GBR    12241\n",
       "ITA    10715\n",
       "GER     9807\n",
       "CAN     9698\n",
       "JPN     8444\n",
       "SWE     8332\n",
       "AUS     7629\n",
       "HUN     6607\n",
       "POL     6207\n",
       "SUI     6150\n",
       "NED     5823\n",
       "URS     5684\n",
       "FIN     5467\n",
       "ESP     5311\n",
       "CHN     5141\n",
       "RUS     5141\n",
       "AUT     5135\n",
       "NOR     4960\n",
       "KOR     4464\n",
       "ROU     4405\n",
       "TCH     4403\n",
       "BEL     3857\n",
       "BRA     3848\n",
       "Name: NOC, dtype: int64"
      ]
     },
     "execution_count": 18,
     "metadata": {},
     "output_type": "execute_result"
    }
   ],
   "source": [
    "#Queries the fully joined table and counts the amount of occurences for each NOC and \n",
    "#therefore how many times a country\n",
    "#has won a medal\n",
    "result_df['NOC'].value_counts().nlargest(25)"
   ]
  },
  {
   "cell_type": "code",
   "execution_count": 19,
   "metadata": {},
   "outputs": [],
   "source": [
    "#This allows for the created graphs to show within the notebook\n",
    "%matplotlib inline\n",
    "#Imports the matplotlib library\n",
    "import matplotlib.pyplot as plt\n",
    "import pandas as pd\n",
    "\n",
    "#Queries the 2012 dataframe and displays the 10 most winningest countries from that year\n",
    "count = result2012_df['NOC'].value_counts().nlargest(10)"
   ]
  },
  {
   "cell_type": "code",
   "execution_count": 20,
   "metadata": {},
   "outputs": [],
   "source": [
    "%matplotlib inline\n",
    "import matplotlib.pyplot as plt\n",
    "import pandas as pd\n",
    "#Queries the 2008 dataframe and displays the 10 most winningest countries from that year\n",
    "count2 = result2008_df['NOC'].value_counts().nlargest(10)"
   ]
  },
  {
   "cell_type": "code",
   "execution_count": 24,
   "metadata": {},
   "outputs": [
    {
     "data": {
      "application/vnd.jupyter.widget-view+json": {
       "model_id": "607a1a795432459dacd73dae2fa82df4"
      }
     },
     "metadata": {},
     "output_type": "display_data"
    },
    {
     "data": {
      "image/png": "[encoded data removed]",
      "text/plain": [
       "<matplotlib.figure.Figure at 0x7f13a7accd50>"
      ]
     },
     "metadata": {},
     "output_type": "display_data"
    }
   ],
   "source": [
    "#Imports the ipywidgets that will be used to create a user interace that allows for selevtion dataframe\n",
    "import ipywidgets as widgets\n",
    "from ipywidgets import interactive\n",
    "from IPython.display import clear_output\n",
    "\n",
    "#Adds the years to the dropdown menu\n",
    "items = ['2012']+['2008']\n",
    "#Fills the drop down menu with the years\n",
    "w = widgets.Select(options=items)\n",
    "\n",
    "#Checks to see what year is chosen and displays the correct graph\n",
    "def view(x=''):\n",
    "    with out:\n",
    "        clear_output()\n",
    "        if x=='2012':return count.plot.barh()\n",
    "        return count2.plot.barh()\n",
    "\n",
    "#Makes the notebook Interactive\n",
    "interactive(view, x=w)   "
   ]
  },
  {
   "cell_type": "code",
   "execution_count": null,
   "metadata": {
    "collapsed": true
   },
   "outputs": [],
   "source": []
  }
 ],
 "metadata": {
  "kernelspec": {
   "display_name": "Python 2",
   "language": "python",
   "name": "python2"
  },
  "language_info": {
   "codemirror_mode": {
    "name": "ipython",
    "version": 2
   },
   "file_extension": ".py",
   "mimetype": "text/x-python",
   "name": "python",
   "nbconvert_exporter": "python",
   "pygments_lexer": "ipython2",
   "version": "2.7.13"
  }
 },
 "nbformat": 4,
 "nbformat_minor": 2
}
